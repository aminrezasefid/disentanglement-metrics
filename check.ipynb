{
 "cells": [
  {
   "cell_type": "code",
   "execution_count": 11,
   "metadata": {},
   "outputs": [],
   "source": [
    "model_data_list=[\n",
    " ('RN50', 'openai'),\n",
    " ('RN50', 'yfcc15m'),\n",
    " ('RN50', 'cc12m'),\n",
    " ('RN50-quickgelu', 'openai'),\n",
    " ('RN50-quickgelu', 'yfcc15m'),\n",
    " ('RN50-quickgelu', 'cc12m'),\n",
    " ('RN101', 'openai'),\n",
    " ('RN101', 'yfcc15m'),\n",
    " ('RN101-quickgelu', 'openai'),\n",
    " ('RN101-quickgelu', 'yfcc15m'),\n",
    " ('RN50x4', 'openai'),\n",
    " ('RN50x16', 'openai'),\n",
    " ('RN50x64', 'openai'),\n",
    " ('ViT-B-32', 'openai'),\n",
    " ('ViT-B-32', 'laion400m_e31'),\n",
    " ('ViT-B-32', 'laion400m_e32'),\n",
    " ('ViT-B-32', 'laion2b_e16'),\n",
    " ('ViT-B-32', 'laion2b_s34b_b79k'),\n",
    " ('ViT-B-32', 'datacomp_xl_s13b_b90k'),\n",
    " ('ViT-B-32', 'datacomp_m_s128m_b4k'),\n",
    " ('ViT-B-32', 'commonpool_m_clip_s128m_b4k'),\n",
    " ('ViT-B-32', 'commonpool_m_laion_s128m_b4k'),\n",
    " ('ViT-B-32', 'commonpool_m_image_s128m_b4k'),\n",
    " ('ViT-B-32', 'commonpool_m_text_s128m_b4k'),\n",
    " ('ViT-B-32', 'commonpool_m_basic_s128m_b4k'),\n",
    " ('ViT-B-32', 'commonpool_m_s128m_b4k'),\n",
    " ('ViT-B-32', 'datacomp_s_s13m_b4k'),\n",
    " ('ViT-B-32', 'commonpool_s_clip_s13m_b4k'),\n",
    " ('ViT-B-32', 'commonpool_s_laion_s13m_b4k'),\n",
    " ('ViT-B-32', 'commonpool_s_image_s13m_b4k'),\n",
    " ('ViT-B-32', 'commonpool_s_text_s13m_b4k'),\n",
    " ('ViT-B-32', 'commonpool_s_basic_s13m_b4k'),\n",
    " ('ViT-B-32', 'commonpool_s_s13m_b4k'),\n",
    " ('ViT-B-32-256', 'datacomp_s34b_b86k'),\n",
    " ('ViT-B-32-quickgelu', 'openai'),\n",
    " ('ViT-B-32-quickgelu', 'laion400m_e31'),\n",
    " ('ViT-B-32-quickgelu', 'laion400m_e32'),\n",
    " ('ViT-B-16', 'openai'),\n",
    " ('ViT-B-16', 'laion400m_e31'),\n",
    " ('ViT-B-16', 'laion400m_e32'),\n",
    " ('ViT-B-16', 'laion2b_s34b_b88k'),\n",
    " ('ViT-B-16', 'datacomp_xl_s13b_b90k'),\n",
    " ('ViT-B-16', 'datacomp_l_s1b_b8k'),\n",
    " ('ViT-B-16', 'commonpool_l_clip_s1b_b8k'),\n",
    " ('ViT-B-16', 'commonpool_l_laion_s1b_b8k'),\n",
    " ('ViT-B-16', 'commonpool_l_image_s1b_b8k'),\n",
    " ('ViT-B-16', 'commonpool_l_text_s1b_b8k'),\n",
    " ('ViT-B-16', 'commonpool_l_basic_s1b_b8k'),\n",
    " ('ViT-B-16', 'commonpool_l_s1b_b8k'),\n",
    " ('ViT-B-16-plus-240', 'laion400m_e31'),\n",
    " ('ViT-B-16-plus-240', 'laion400m_e32'),\n",
    " ('ViT-L-14', 'openai'),\n",
    " ('ViT-L-14', 'laion400m_e31'),\n",
    " ('ViT-L-14', 'laion400m_e32'),\n",
    " ('ViT-L-14', 'laion2b_s32b_b82k'),\n",
    " ('ViT-L-14', 'datacomp_xl_s13b_b90k'),\n",
    " ('ViT-L-14', 'commonpool_xl_clip_s13b_b90k'),\n",
    " ('ViT-L-14', 'commonpool_xl_laion_s13b_b90k'),\n",
    " ('ViT-L-14', 'commonpool_xl_s13b_b90k'),\n",
    " ('ViT-L-14-336', 'openai'),\n",
    " ('ViT-H-14', 'laion2b_s32b_b79k'),\n",
    " ('ViT-g-14', 'laion2b_s12b_b42k')\n",
    "]\n"
   ]
  },
  {
   "cell_type": "code",
   "execution_count": 12,
   "metadata": {},
   "outputs": [],
   "source": [
    "import pandas as pd\n",
    "df=pd.read_csv(\"Modularity - Sheet1.csv\")"
   ]
  },
  {
   "cell_type": "code",
   "execution_count": 13,
   "metadata": {},
   "outputs": [],
   "source": [
    "ignored_list=[]\n",
    "df_list=[]\n",
    "for row in df.iterrows():\n",
    "    m=row[1][\"Model\"]\n",
    "    d=row[1][\"Dataset\"]\n",
    "    f=(m,d)\n",
    "    df_list.append(f)\n",
    "for item in model_data_list:\n",
    "    if item not in df_list:\n",
    "        ignored_list.append(item)"
   ]
  },
  {
   "cell_type": "code",
   "execution_count": 14,
   "metadata": {},
   "outputs": [
    {
     "data": {
      "text/plain": [
       "[('RN50x64', 'openai'),\n",
       " ('ViT-B-32', 'openai'),\n",
       " ('ViT-B-32', 'laion400m_e31'),\n",
       " ('ViT-B-32', 'laion400m_e32'),\n",
       " ('ViT-B-32', 'laion2b_e16'),\n",
       " ('ViT-B-32', 'laion2b_s34b_b79k'),\n",
       " ('ViT-B-32', 'datacomp_xl_s13b_b90k'),\n",
       " ('ViT-B-32', 'datacomp_m_s128m_b4k'),\n",
       " ('ViT-B-16', 'commonpool_l_basic_s1b_b8k'),\n",
       " ('ViT-B-16', 'commonpool_l_s1b_b8k'),\n",
       " ('ViT-B-16-plus-240', 'laion400m_e31'),\n",
       " ('ViT-L-14', 'laion400m_e32'),\n",
       " ('ViT-L-14', 'laion2b_s32b_b82k'),\n",
       " ('ViT-L-14', 'datacomp_xl_s13b_b90k'),\n",
       " ('ViT-L-14', 'commonpool_xl_clip_s13b_b90k'),\n",
       " ('ViT-L-14', 'commonpool_xl_laion_s13b_b90k'),\n",
       " ('ViT-L-14', 'commonpool_xl_s13b_b90k'),\n",
       " ('ViT-L-14-336', 'openai'),\n",
       " ('ViT-H-14', 'laion2b_s32b_b79k'),\n",
       " ('ViT-g-14', 'laion2b_s12b_b42k')]"
      ]
     },
     "execution_count": 14,
     "metadata": {},
     "output_type": "execute_result"
    }
   ],
   "source": [
    "ignored_list"
   ]
  },
  {
   "cell_type": "code",
   "execution_count": null,
   "metadata": {},
   "outputs": [],
   "source": []
  }
 ],
 "metadata": {
  "kernelspec": {
   "display_name": "pvd",
   "language": "python",
   "name": "python3"
  },
  "language_info": {
   "codemirror_mode": {
    "name": "ipython",
    "version": 3
   },
   "file_extension": ".py",
   "mimetype": "text/x-python",
   "name": "python",
   "nbconvert_exporter": "python",
   "pygments_lexer": "ipython3",
   "version": "3.9.10"
  },
  "orig_nbformat": 4
 },
 "nbformat": 4,
 "nbformat_minor": 2
}
